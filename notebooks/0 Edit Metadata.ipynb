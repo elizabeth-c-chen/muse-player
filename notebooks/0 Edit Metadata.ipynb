{
 "cells": [
  {
   "cell_type": "code",
   "execution_count": 1,
   "id": "7c0340e8",
   "metadata": {},
   "outputs": [],
   "source": [
    "import os\n",
    "import json\n",
    "import time\n",
    "import numpy as np\n",
    "from datetime import datetime\n",
    "from mutagen.mp4 import MP4\n",
    "from datetime import date, datetime\n",
    "from collections import defaultdict"
   ]
  },
  {
   "cell_type": "code",
   "execution_count": 2,
   "id": "4fe43bb1",
   "metadata": {},
   "outputs": [],
   "source": [
    "MUSIC_DIR = \"/Users/elizabethchen/Music/Music/Media.localized/Music/\""
   ]
  },
  {
   "cell_type": "code",
   "execution_count": 3,
   "id": "058383b5",
   "metadata": {},
   "outputs": [],
   "source": [
    "artists = ['Kygo', 'JP Saxe', 'Panic! At The Disco', 'Sam Smith', 'James Bay', '5 Seconds Of Summer', 'Lauv']"
   ]
  },
  {
   "cell_type": "code",
   "execution_count": 4,
   "id": "c15544a6",
   "metadata": {},
   "outputs": [
    {
     "name": "stdout",
     "output_type": "stream",
     "text": [
      "\n",
      "\n",
      "It Ain't Me \n",
      "\n",
      "01 It Ain't Me (with Selena Gomez).m4a        2017-02-17 00:00:00\n",
      "\n",
      "\n",
      "\n",
      "\n",
      "Dangerous Levels of Introspection \n",
      "\n",
      "02 Like That.m4a        2021-05-07 00:00:00\n",
      "11 Line By Line (feat. Maren Morris).m4a        2021-06-25 00:00:00\n",
      "\n",
      "\n",
      "If The World Was Ending (feat. Julia Michaels) - Original Demo \n",
      "\n",
      "01 If The World Was Ending (feat. Julia Michaels) - Original Demo.m4a        2020-04-07 00:00:00\n",
      "\n",
      "\n",
      "Pretty. Odd_ \n",
      "\n",
      "02 Nine in the Afternoon.m4a        2008-03-25 00:00:00\n",
      "\n",
      "\n",
      "Jennifer's Body (Music from the Motion Picture) [Deluxe Version] \n",
      "\n",
      "02 New Perspective.m4a        2009-08-25 00:00:00\n",
      "\n",
      "\n",
      "\n",
      "\n",
      "Vices & Virtues \n",
      "\n",
      "05 Trade Mistakes.m4a        2011-03-22 00:00:00\n",
      "01 The Ballad Of Mona Lisa.m4a        2011-03-22 00:00:00\n",
      "02 Let's Kill Tonight.m4a        2011-03-22 00:00:00\n",
      "06 Ready To Go (Get Me Out Of My Mind).m4a        2011-03-22 00:00:00\n",
      "09 Sarah Smiles.m4a        2011-03-22 00:00:00\n",
      "04 Memories.m4a        2011-03-22 00:00:00\n",
      "03 Hurricane.m4a        2011-03-22 00:00:00\n",
      "10 Nearly Witches (Ever Since We Met...).m4a        2011-03-22 00:00:00\n",
      "08 The Calendar.m4a        2011-03-22 00:00:00\n",
      "07 Always.m4a        2011-03-22 00:00:00\n",
      "\n",
      "\n",
      "A Fever You Can't Sweat Out \n",
      "\n",
      "02 The Only Difference Between Martyrdom and Suicide Is Press Coverage.m4a        2005-09-27 00:00:00\n",
      "\n",
      "\n",
      "Love Goes_ Live at Abbey Road Studios \n",
      "\n",
      "07 Time After Time (Live At Abbey Road Studios).m4a        2021-03-19 00:00:00\n",
      "\n",
      "\n",
      "Oh My Messy Mind \n",
      "\n",
      "01 Peer Pressure (feat. Julia Michaels).m4a        2019-05-10 00:00:00\n",
      "\n",
      "\n",
      "Lie To Me \n",
      "\n",
      "01 Lie To Me (feat. Julia Michaels).m4a        2018-12-21 00:00:00\n",
      "\n",
      "\n",
      "fuck, i_m lonely \n",
      "\n",
      "01 fuck, i_m lonely - stripped.m4a        2019-09-13 00:00:00\n",
      "\n",
      "\n",
      "There's No Way (feat. Julia Michaels) \n",
      "\n",
      "01 There's No Way (feat. Julia Michaels).m4a        2018-09-27 00:00:00\n"
     ]
    }
   ],
   "source": [
    "#for artist_dir in os.listdir(MUSIC_DIR):\n",
    "for artist_dir in artists:\n",
    "    if not artist_dir.startswith(\".\"):\n",
    "        for album_dir in os.listdir(os.path.join(MUSIC_DIR, artist_dir)):\n",
    "            print(\"\\n\")\n",
    "            if not album_dir.startswith(\".\"):\n",
    "                if not album_dir.endswith(\".jpg\"):\n",
    "                    print(album_dir, \"\\n\")\n",
    "                    for song in os.listdir(os.path.join(MUSIC_DIR, artist_dir, album_dir)):\n",
    "                        if not song.startswith(\".\"):\n",
    "                            if not song.endswith(\".jpg\"):\n",
    "                                song_path = os.path.join(MUSIC_DIR, artist_dir, album_dir, song)\n",
    "                                mf = MP4(song_path)\n",
    "                                try:\n",
    "                                    release_date = datetime.strptime(mf['©day'][0], '%Y-%m-%d')\n",
    "                                    print(song, \"      \", release_date)\n",
    "                                except:\n",
    "                                    print(song, album_dir, artist_dir, mf['©day'])"
   ]
  },
  {
   "cell_type": "markdown",
   "id": "079fd31d",
   "metadata": {},
   "source": [
    "## Fix iTunes Downloads"
   ]
  },
  {
   "cell_type": "code",
   "execution_count": 6,
   "id": "925ad21e",
   "metadata": {},
   "outputs": [],
   "source": [
    "correct_dates = {\n",
    "    'Kygo': [\"It Ain't Me\", '2017-02-16'], \n",
    "    'JP Saxe': ['Dangerous Levels of Introspection', '2021-06-25'], \n",
    "}"
   ]
  },
  {
   "cell_type": "code",
   "execution_count": 9,
   "id": "0bc1ceae",
   "metadata": {},
   "outputs": [
    {
     "name": "stdout",
     "output_type": "stream",
     "text": [
      "/Users/elizabethchen/Music/Music/Media.localized/Music/Kygo/It Ain't Me/01 It Ain't Me (with Selena Gomez).m4a\n",
      "/Users/elizabethchen/Music/Music/Media.localized/Music/JP Saxe/Dangerous Levels of Introspection/02 Like That.m4a\n",
      "/Users/elizabethchen/Music/Music/Media.localized/Music/JP Saxe/Dangerous Levels of Introspection/11 Line By Line (feat. Maren Morris).m4a\n"
     ]
    }
   ],
   "source": [
    "for artist, fix in correct_dates.items():\n",
    "    album = fix[0]\n",
    "    new_date = fix[1]\n",
    "    album_path = os.path.join(MUSIC_DIR, artist, album)\n",
    "    for song in os.listdir(album_path):\n",
    "        if not song in ['.DS_Store', 'cover.jpg']:\n",
    "            song_path = os.path.join(MUSIC_DIR, artist, album, song)\n",
    "            print(song_path)\n",
    "            mf = MP4(song_path)\n",
    "            mf['©day'][0] = new_date\n",
    "            #print(song, artist, mf['©day'][0])\n",
    "            mf.save()\n"
   ]
  },
  {
   "cell_type": "code",
   "execution_count": null,
   "id": "522a0a23",
   "metadata": {},
   "outputs": [],
   "source": []
  },
  {
   "cell_type": "markdown",
   "id": "1d45ea29",
   "metadata": {},
   "source": [
    "## Fix Qobuz Downloads"
   ]
  },
  {
   "cell_type": "code",
   "execution_count": null,
   "id": "1060f8a2",
   "metadata": {},
   "outputs": [],
   "source": []
  },
  {
   "cell_type": "markdown",
   "id": "583ca351",
   "metadata": {},
   "source": [
    "## Fix Imported CDs"
   ]
  },
  {
   "cell_type": "code",
   "execution_count": null,
   "id": "91dbb8e7",
   "metadata": {},
   "outputs": [],
   "source": []
  },
  {
   "cell_type": "code",
   "execution_count": null,
   "id": "1e04294a",
   "metadata": {},
   "outputs": [],
   "source": []
  },
  {
   "cell_type": "code",
   "execution_count": null,
   "id": "fc8df697",
   "metadata": {},
   "outputs": [],
   "source": []
  }
 ],
 "metadata": {
  "kernelspec": {
   "display_name": "Python 3 (ipykernel)",
   "language": "python",
   "name": "python3"
  },
  "language_info": {
   "codemirror_mode": {
    "name": "ipython",
    "version": 3
   },
   "file_extension": ".py",
   "mimetype": "text/x-python",
   "name": "python",
   "nbconvert_exporter": "python",
   "pygments_lexer": "ipython3",
   "version": "3.9.7"
  }
 },
 "nbformat": 4,
 "nbformat_minor": 5
}
