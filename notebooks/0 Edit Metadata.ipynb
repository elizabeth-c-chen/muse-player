{
 "cells": [
  {
   "cell_type": "code",
   "execution_count": null,
   "id": "7c0340e8",
   "metadata": {},
   "outputs": [],
   "source": [
    "import os\n",
    "import json\n",
    "import time\n",
    "import numpy as np\n",
    "from datetime import datetime\n",
    "from mutagen.mp4 import MP4\n",
    "from datetime import date, datetime\n",
    "from collections import defaultdict"
   ]
  },
  {
   "cell_type": "code",
   "execution_count": null,
   "id": "4fe43bb1",
   "metadata": {},
   "outputs": [],
   "source": [
    "MUSIC_DIR = os.environ.get(\"MUSIC_DIR\")"
   ]
  },
  {
   "cell_type": "markdown",
   "id": "87e11d17",
   "metadata": {},
   "source": [
    "### \\# TODO: List any artists that need to be fixed"
   ]
  },
  {
   "cell_type": "code",
   "execution_count": null,
   "id": "058383b5",
   "metadata": {},
   "outputs": [],
   "source": [
    "artists = [ ] # TODO ADD NEW ARTISTS HERE THAT NEED TO BE EDITED"
   ]
  },
  {
   "cell_type": "code",
   "execution_count": null,
   "id": "c15544a6",
   "metadata": {},
   "outputs": [],
   "source": [
    "#for artist_dir in os.listdir(MUSIC_DIR):\n",
    "for artist_dir in artists:\n",
    "    if not artist_dir.startswith(\".\"):\n",
    "        for album_dir in os.listdir(os.path.join(MUSIC_DIR, artist_dir)):\n",
    "            print(\"\\n\")\n",
    "            if not album_dir.startswith(\".\"):\n",
    "                if not album_dir.endswith(\".jpg\"):\n",
    "                    print(album_dir, \"\\n\")\n",
    "                    for song in os.listdir(os.path.join(MUSIC_DIR, artist_dir, album_dir)):\n",
    "                        if not song.startswith(\".\"):\n",
    "                            if not song.endswith(\".jpg\"):\n",
    "                                song_path = os.path.join(MUSIC_DIR, artist_dir, album_dir, song)\n",
    "                                mf = MP4(song_path)\n",
    "                                try:\n",
    "                                    release_date = datetime.strptime(mf['©day'][0], '%Y-%m-%d')\n",
    "                                    print(song, \"      \", release_date)\n",
    "                                except:\n",
    "                                    print(song, album_dir, artist_dir, mf['©day'])"
   ]
  },
  {
   "cell_type": "markdown",
   "id": "079fd31d",
   "metadata": {},
   "source": [
    "## Fix iTunes Downloads"
   ]
  },
  {
   "cell_type": "markdown",
   "id": "aec9427c",
   "metadata": {},
   "source": [
    "Template - fix cell below:\n",
    "```\n",
    "correct_dates = {\n",
    "    'fill artist name 1': [\"song title\", 'YYYY-MM-DD'], ...\n",
    "} \n",
    "```"
   ]
  },
  {
   "cell_type": "code",
   "execution_count": null,
   "id": "925ad21e",
   "metadata": {},
   "outputs": [],
   "source": [
    "correct_dates = {\n",
    "    'fill artist name 1': [\"song title\", 'YYYY-MM-DD'], ...\n",
    "} "
   ]
  },
  {
   "cell_type": "code",
   "execution_count": null,
   "id": "0bc1ceae",
   "metadata": {},
   "outputs": [],
   "source": [
    "for artist, fix in correct_dates.items():\n",
    "    album = fix[0]\n",
    "    new_date = fix[1]\n",
    "    album_path = os.path.join(MUSIC_DIR, artist, album)\n",
    "    for song in os.listdir(album_path):\n",
    "        if not song in ['.DS_Store', 'cover.jpg']:\n",
    "            song_path = os.path.join(MUSIC_DIR, artist, album, song)\n",
    "            print(song_path)\n",
    "            mf = MP4(song_path)\n",
    "            mf['©day'][0] = new_date\n",
    "            #print(song, artist, mf['©day'][0])\n",
    "            mf.save()\n"
   ]
  },
  {
   "cell_type": "markdown",
   "id": "583ca351",
   "metadata": {},
   "source": [
    "## Fix Imported CDs"
   ]
  },
  {
   "cell_type": "code",
   "execution_count": null,
   "id": "91dbb8e7",
   "metadata": {},
   "outputs": [],
   "source": []
  },
  {
   "cell_type": "code",
   "execution_count": null,
   "id": "1e04294a",
   "metadata": {},
   "outputs": [],
   "source": []
  },
  {
   "cell_type": "code",
   "execution_count": null,
   "id": "fc8df697",
   "metadata": {},
   "outputs": [],
   "source": []
  }
 ],
 "metadata": {
  "kernelspec": {
   "display_name": "Python 3 (ipykernel)",
   "language": "python",
   "name": "python3"
  },
  "language_info": {
   "codemirror_mode": {
    "name": "ipython",
    "version": 3
   },
   "file_extension": ".py",
   "mimetype": "text/x-python",
   "name": "python",
   "nbconvert_exporter": "python",
   "pygments_lexer": "ipython3",
   "version": "3.9.7"
  }
 },
 "nbformat": 4,
 "nbformat_minor": 5
}
