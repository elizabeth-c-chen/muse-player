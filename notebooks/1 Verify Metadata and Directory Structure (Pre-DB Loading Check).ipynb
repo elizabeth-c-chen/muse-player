{
 "cells": [
  {
   "cell_type": "markdown",
   "id": "69441b8d",
   "metadata": {},
   "source": [
    "# Verifying Metadata and Proper Directory Structures"
   ]
  },
  {
   "cell_type": "code",
   "execution_count": 1,
   "id": "19f226a9",
   "metadata": {},
   "outputs": [],
   "source": [
    "import os\n",
    "import json\n",
    "import numpy as np\n",
    "from mutagen.mp4 import MP4\n",
    "from datetime import datetime\n",
    "from pprint import PrettyPrinter\n",
    "pp = PrettyPrinter()"
   ]
  },
  {
   "cell_type": "code",
   "execution_count": 2,
   "id": "6728c10e",
   "metadata": {},
   "outputs": [],
   "source": [
    "MUSIC_DIR = os.environ.get(\"MUSIC_DIR\")\n",
    "IMAGE_DIR = os.environ.get(\"IMAGE_DIR\")"
   ]
  },
  {
   "cell_type": "code",
   "execution_count": 7,
   "id": "7ea5fee6",
   "metadata": {},
   "outputs": [],
   "source": [
    "for ARTIST_DIR in os.listdir(MUSIC_DIR):\n",
    "    if not ARTIST_DIR == '.DS_Store':\n",
    "        ARTIST_IMAGE_PATH = os.path.join(IMAGE_DIR, ARTIST_DIR)\n",
    "        try:\n",
    "            if not \"profile.jpg\" in os.listdir(ARTIST_IMAGE_PATH):\n",
    "                print(f\"No profile image found for {ARTIST_DIR}: {ARTIST_IMAGE_PATH}\")\n",
    "        except FileNotFoundError as fnf:\n",
    "            print(fnf)\n",
    "            continue\n",
    "        ARTIST_MUSIC_PATH = os.path.join(MUSIC_DIR, ARTIST_DIR)\n",
    "        for ALBUM_DIR in os.listdir(ARTIST_MUSIC_PATH):\n",
    "             if not ALBUM_DIR.startswith(\".\"):\n",
    "                try:\n",
    "                    if not \"cover.jpg\" in os.listdir(os.path.join(ARTIST_IMAGE_PATH, ALBUM_DIR)):\n",
    "                        print(f\"No cover image found for {ARTIST_DIR} - {ALBUM_DIR}: {ARTIST_IMAGE_PATH}/{ALBUM_DIR}\")\n",
    "                except FileNotFoundError as fnf:\n",
    "                    print(fnf)\n",
    "                    continue\n",
    "                ARTIST_ALBUM_PATH = os.path.join(ARTIST_MUSIC_PATH, ALBUM_DIR)\n",
    "                for ITEM in os.listdir(ARTIST_ALBUM_PATH):\n",
    "                     if not ITEM in ['.DS_Store', 'cover.jpg']:\n",
    "                        SONG_PATH = os.path.join(ARTIST_ALBUM_PATH, ITEM)\n",
    "                        mf = MP4(SONG_PATH)\n",
    "                        title, artist, album, = mf['©nam'][0], mf['©ART'][0], mf['©alb'][0]\n",
    "                        album_artist, release_date = mf['aART'][0], mf['©day'][0]\n",
    "                        track_num = mf['trkn'][0][0]\n",
    "                        duration, bitrate, codec = mf.info.length, mf.info.bitrate, mf.info.codec"
   ]
  },
  {
   "cell_type": "code",
   "execution_count": null,
   "id": "bd1b293a",
   "metadata": {},
   "outputs": [],
   "source": []
  }
 ],
 "metadata": {
  "kernelspec": {
   "display_name": "Python 3 (ipykernel)",
   "language": "python",
   "name": "python3"
  },
  "language_info": {
   "codemirror_mode": {
    "name": "ipython",
    "version": 3
   },
   "file_extension": ".py",
   "mimetype": "text/x-python",
   "name": "python",
   "nbconvert_exporter": "python",
   "pygments_lexer": "ipython3",
   "version": "3.9.7"
  }
 },
 "nbformat": 4,
 "nbformat_minor": 5
}
