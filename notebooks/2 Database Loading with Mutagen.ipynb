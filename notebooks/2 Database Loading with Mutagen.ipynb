{
 "cells": [
  {
   "cell_type": "markdown",
   "id": "11c6864c",
   "metadata": {},
   "source": [
    "# Loading the database"
   ]
  },
  {
   "cell_type": "code",
   "execution_count": 1,
   "id": "be6448f4",
   "metadata": {},
   "outputs": [],
   "source": [
    "import os\n",
    "import json\n",
    "import numpy as np\n",
    "from mutagen.mp4 import MP4\n",
    "from datetime import datetime\n",
    "from bson import ObjectId\n",
    "from pymongo import MongoClient\n",
    "from pprint import PrettyPrinter\n",
    "pp = PrettyPrinter()"
   ]
  },
  {
   "cell_type": "code",
   "execution_count": 2,
   "id": "571b32c0",
   "metadata": {},
   "outputs": [],
   "source": [
    "MUSIC_DIR = \"/Users/elizabethchen/Documents/iPod Library - updated 2025-07/iPod/iPod/Media.localized/Music\""
   ]
  },
  {
   "cell_type": "code",
   "execution_count": 3,
   "id": "2fd4ef8c",
   "metadata": {},
   "outputs": [
    {
     "data": {
      "text/plain": [
       "'/Users/elizabethchen/Documents/iPod Library - updated 2025-07/iPod/iPod/Media.localized/Music'"
      ]
     },
     "execution_count": 3,
     "metadata": {},
     "output_type": "execute_result"
    }
   ],
   "source": [
    "MUSIC_DIR"
   ]
  },
  {
   "cell_type": "code",
   "execution_count": 4,
   "id": "727e5392",
   "metadata": {},
   "outputs": [],
   "source": [
    "def get_codec(mf_info_codec):\n",
    "    if mf_info_codec == 'mp4a.40.2':\n",
    "        return 'aac'\n",
    "    elif mf_info_codec == 'alac':\n",
    "        return 'alac'"
   ]
  },
  {
   "cell_type": "code",
   "execution_count": 5,
   "id": "3be9cb9b",
   "metadata": {
    "scrolled": false
   },
   "outputs": [],
   "source": [
    "for ARTIST_DIR in os.listdir(MUSIC_DIR):\n",
    "    if not ARTIST_DIR.startswith(\".\"):\n",
    "        ARTIST_PATH = os.path.join(MUSIC_DIR, ARTIST_DIR)\n",
    "        for ALBUM_DIR in os.listdir(ARTIST_PATH):\n",
    "            if not ALBUM_DIR.startswith(\".\"):\n",
    "                if not ALBUM_DIR.endswith(\".jpg\"):\n",
    "                    ALBUM_PATH = os.path.join(ARTIST_PATH, ALBUM_DIR)\n",
    "                    for SONG in os.listdir(ALBUM_PATH):\n",
    "                        if not SONG.startswith(\".\"):\n",
    "                            if not SONG .endswith(\".jpg\"):\n",
    "                                try:\n",
    "                                    SONG_PATH = os.path.join(ALBUM_PATH, SONG)\n",
    "                                    mf = MP4(SONG_PATH)\n",
    "                                except: \n",
    "                                    pass\n",
    "                                #title = mf['©nam'][0]\n",
    "                                #title, artist, album, = mf['©nam'][0], mf['©ART'][0], mf['©alb'][0]\n",
    "                                #album_artist, release_date = mf['aART'][0], mf['©day'][0]\n",
    "                                #track_num = mf['trkn'][0][0]\n",
    "                                #print(title, track_num)\n",
    "                                #duration, bitrate, codec = mf.info.length, mf.info.bitrate, mf.info.codec\n",
    "                                "
   ]
  },
  {
   "cell_type": "markdown",
   "id": "04819e8c",
   "metadata": {},
   "source": [
    "# MongoDB"
   ]
  },
  {
   "cell_type": "code",
   "execution_count": 12,
   "id": "210e2475",
   "metadata": {},
   "outputs": [],
   "source": [
    "connection = MongoClient(\"mongodb://127.0.0.1:27017/museplayer\" )\n",
    "db = connection.museplayer"
   ]
  },
  {
   "cell_type": "code",
   "execution_count": 13,
   "id": "18abc23d",
   "metadata": {},
   "outputs": [
    {
     "data": {
      "text/plain": [
       "Collection(Database(MongoClient(host=['127.0.0.1:27017'], document_class=dict, tz_aware=False, connect=True), 'museplayer'), 'albums')"
      ]
     },
     "execution_count": 13,
     "metadata": {},
     "output_type": "execute_result"
    }
   ],
   "source": [
    "db.albums"
   ]
  },
  {
   "cell_type": "markdown",
   "id": "600e8bbd",
   "metadata": {},
   "source": [
    "### Artists Collection Structure\n",
    "\n",
    "```\n",
    "Artists: {\n",
    "            _id: ObjectID\n",
    "            artistName: string\n",
    "            albums: [ list of album_ids ]\n",
    "            profilePic: [image] or [filename/location]\n",
    "         }\n",
    "```"
   ]
  },
  {
   "cell_type": "markdown",
   "id": "990c4569",
   "metadata": {},
   "source": [
    "### Albums Collection Structure\n",
    "\n",
    "```\n",
    "Albums: { \n",
    "           _id: ObjectId\n",
    "           albumName: string\n",
    "           albumArtist: string\n",
    "           releaseDate: date\n",
    "           albumCover: filename/location\n",
    "           genre: string\n",
    "           songs: [ObjectId]\n",
    "```"
   ]
  },
  {
   "cell_type": "code",
   "execution_count": 14,
   "id": "eb670e70",
   "metadata": {
    "scrolled": false
   },
   "outputs": [],
   "source": [
    "albums = db.albums\n",
    "albums.drop()\n",
    "\n",
    "artists = db.artists\n",
    "artists.drop()\n",
    "\n",
    "songs = db.songs\n",
    "songs.drop()\n",
    "\n",
    "for ARTIST_DIR in os.listdir(MUSIC_DIR):\n",
    "    try:\n",
    "        if not ARTIST_DIR.startswith(\".\"):\n",
    "            artist_id = ObjectId()\n",
    "            artist_album_ids = []\n",
    "            for ALBUM_DIR in os.listdir(os.path.join(MUSIC_DIR, ARTIST_DIR)):\n",
    "                # Two files to exclude when searching the artist directory\n",
    "                if not ALBUM_DIR in {'profile.jpg', '.DS_Store'}: \n",
    "                    cover_loc = os.path.join(MUSIC_DIR, ARTIST_DIR, ALBUM_DIR, 'cover.jpg')\n",
    "                    assert os.path.exists(cover_loc) == True, 'cover does not exist!'\n",
    "                    album_id =  ObjectId()\n",
    "                    songs_list = []\n",
    "                    for SONG in os.listdir(os.path.join(MUSIC_DIR, ARTIST_DIR, ALBUM_DIR)):\n",
    "                        # Two files to exclude when searching the albums directory\n",
    "                        if not SONG in {'cover.jpg', '.DS_Store'}: \n",
    "                            try:\n",
    "                                file_loc = os.path.join(MUSIC_DIR, ARTIST_DIR, ALBUM_DIR, SONG)\n",
    "                                mf = MP4(file_loc)\n",
    "                                song_entry = {\n",
    "                                    '_id': ObjectId(),\n",
    "                                    'artistId': artist_id,\n",
    "                                    'albumId': album_id,\n",
    "                                    'songFileLoc': file_loc,\n",
    "                                    'albumArtworkLoc': cover_loc,\n",
    "                                    'title': mf['©nam'][0],\n",
    "                                    'duration': np.round(mf.info.length, 1),\n",
    "                                    'trackNumber': mf['trkn'][0][0],\n",
    "                                    'artistName': mf['©ART'][0],\n",
    "                                    'albumName': mf['©alb'][0],\n",
    "                                    'albumArtist': mf['aART'][0],\n",
    "                                    'releaseDate': mf['©day'][0],\n",
    "                                    'bitrate': np.round(mf.info.bitrate / 1000), \n",
    "                                    'codec': get_codec(mf.info.codec),\n",
    "                                    'isFavorited': False,\n",
    "                                    'numPlays': 0, \n",
    "                                    'lastPlayed': None\n",
    "                                }\n",
    "                                songs_list.append(song_entry[\"_id\"])\n",
    "                                songs.insert_one(song_entry)\n",
    "                            except:\n",
    "                                #print(os.path.join(MUSIC_DIR, ARTIST_DIR, ALBUM_DIR, SONG))\n",
    "                                continue\n",
    "                    artist_album_ids.append(album_id)\n",
    "                    album_entry  = {\n",
    "                        '_id': album_id,\n",
    "                        'artistId': artist_id,\n",
    "                        'albumName': mf['©alb'][0],\n",
    "                        'albumArtist': mf['aART'][0],\n",
    "                        'releaseDate': mf['©day'][0],\n",
    "                        'genre': mf['©gen'][0],\n",
    "                        'songs': songs_list,\n",
    "                        'albumArtworkLoc': cover_loc,\n",
    "                        'isFavorited': False\n",
    "                    }\n",
    "                    albums.insert_one(album_entry)   \n",
    "            profile_loc = os.path.join(MUSIC_DIR, ARTIST_DIR, 'profile.jpg')\n",
    "            assert os.path.exists(profile_loc) == True\n",
    "            artist_entry = {\n",
    "                '_id': artist_id,\n",
    "                'artistName': mf['aART'][0],\n",
    "                'artistAlbums': artist_album_ids,\n",
    "                'profilePicLoc': profile_loc,\n",
    "                'isFavorited': False\n",
    "            }\n",
    "            artists.insert_one(artist_entry)\n",
    "    except:\n",
    "        continue"
   ]
  },
  {
   "cell_type": "code",
   "execution_count": 15,
   "id": "9dc53662",
   "metadata": {},
   "outputs": [
    {
     "data": {
      "text/plain": [
       "'albumName_1'"
      ]
     },
     "execution_count": 15,
     "metadata": {},
     "output_type": "execute_result"
    }
   ],
   "source": [
    "artists.create_index('artistName')\n",
    "songs.create_index('title')\n",
    "albums.create_index('albumName')"
   ]
  },
  {
   "cell_type": "code",
   "execution_count": null,
   "id": "b50c4f11",
   "metadata": {},
   "outputs": [],
   "source": []
  }
 ],
 "metadata": {
  "kernelspec": {
   "display_name": "Python 3 (ipykernel)",
   "language": "python",
   "name": "python3"
  },
  "language_info": {
   "codemirror_mode": {
    "name": "ipython",
    "version": 3
   },
   "file_extension": ".py",
   "mimetype": "text/x-python",
   "name": "python",
   "nbconvert_exporter": "python",
   "pygments_lexer": "ipython3",
   "version": "3.9.7"
  }
 },
 "nbformat": 4,
 "nbformat_minor": 5
}
