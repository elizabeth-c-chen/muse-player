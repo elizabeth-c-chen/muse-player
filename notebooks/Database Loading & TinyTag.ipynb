{
 "cells": [
  {
   "cell_type": "markdown",
   "id": "11c6864c",
   "metadata": {},
   "source": [
    "# TinyTag"
   ]
  },
  {
   "cell_type": "code",
   "execution_count": 1,
   "id": "be6448f4",
   "metadata": {},
   "outputs": [],
   "source": [
    "import os\n",
    "import json\n",
    "import numpy as np\n",
    "from datetime import datetime\n",
    "from tinytag import TinyTag\n",
    "from bson import ObjectId\n",
    "from pymongo import MongoClient\n",
    "from pprint import PrettyPrinter\n",
    "pp = PrettyPrinter()"
   ]
  },
  {
   "cell_type": "code",
   "execution_count": 2,
   "id": "571b32c0",
   "metadata": {},
   "outputs": [],
   "source": [
    "MUSIC_DIR = \"/Users/elizabethchen/Music/Muse\""
   ]
  },
  {
   "cell_type": "code",
   "execution_count": 3,
   "id": "b4923146",
   "metadata": {},
   "outputs": [
    {
     "name": "stdout",
     "output_type": "stream",
     "text": [
      "/Users/elizabethchen/Music/Muse/Abandoning Sunday\n",
      "/Users/elizabethchen/Music/Muse/Maude Latour\n",
      "/Users/elizabethchen/Music/Muse/Dexys Midnight Runners\n",
      "/Users/elizabethchen/Music/Muse/Halsey\n",
      "/Users/elizabethchen/Music/Muse/As It Is\n",
      "/Users/elizabethchen/Music/Muse/Demi Lovato\n",
      "/Users/elizabethchen/Music/Muse/Eminem\n",
      "/Users/elizabethchen/Music/Muse/Meg Myers\n",
      "/Users/elizabethchen/Music/Muse/Kelly Clarkson\n",
      "/Users/elizabethchen/Music/Muse/JoJo\n",
      "/Users/elizabethchen/Music/Muse/Arctic Monkeys\n",
      "/Users/elizabethchen/Music/Muse/benny blanco\n",
      "/Users/elizabethchen/Music/Muse/The Killers\n",
      "/Users/elizabethchen/Music/Muse/Manchester Orchestra\n",
      "/Users/elizabethchen/Music/Muse/Cage the Elephant\n",
      "/Users/elizabethchen/Music/Muse/Diddy - Dirty Money\n",
      "/Users/elizabethchen/Music/Muse/Loote\n",
      "/Users/elizabethchen/Music/Muse/Bastille\n",
      "/Users/elizabethchen/Music/Muse/Jonas Brothers\n",
      "/Users/elizabethchen/Music/Muse/Olivia Rodrigo\n",
      "/Users/elizabethchen/Music/Muse/Anne-Marie\n",
      "/Users/elizabethchen/Music/Muse/Katharine McPhee & Jeremy Jordan\n",
      "/Users/elizabethchen/Music/Muse/AJR\n",
      "/Users/elizabethchen/Music/Muse/Martin Garrix\n",
      "/Users/elizabethchen/Music/Muse/Flora Cash\n",
      "/Users/elizabethchen/Music/Muse/Maisie Peters\n",
      "/Users/elizabethchen/Music/Muse/JP Saxe\n",
      "/Users/elizabethchen/Music/Muse/High School Musical Cast\n",
      "/Users/elizabethchen/Music/Muse/HAIM\n",
      "/Users/elizabethchen/Music/Muse/M.I.A.\n",
      "/Users/elizabethchen/Music/Muse/Aly & AJ\n",
      "/Users/elizabethchen/Music/Muse/All Time Low\n",
      "/Users/elizabethchen/Music/Muse/Hailee Steinfeld\n",
      "/Users/elizabethchen/Music/Muse/Glass Animals\n",
      "/Users/elizabethchen/Music/Muse/Alessia Cara\n",
      "/Users/elizabethchen/Music/Muse/P!nk\n",
      "/Users/elizabethchen/Music/Muse/filous_G Flip\n",
      "/Users/elizabethchen/Music/Muse/Macklemore\n",
      "/Users/elizabethchen/Music/Muse/MIKA\n",
      "/Users/elizabethchen/Music/Muse/Ashley Tisdale\n",
      "/Users/elizabethchen/Music/Muse/Jason Derulo\n",
      "/Users/elizabethchen/Music/Muse/Why Don't We\n",
      "/Users/elizabethchen/Music/Muse/Gryffin\n",
      "/Users/elizabethchen/Music/Muse/ILLENIUM\n",
      "/Users/elizabethchen/Music/Muse/Among Savages\n",
      "/Users/elizabethchen/Music/Muse/Avril Lavigne\n",
      "/Users/elizabethchen/Music/Muse/Clean Bandit\n",
      "/Users/elizabethchen/Music/Muse/Mod Sun\n",
      "/Users/elizabethchen/Music/Muse/Empire of the Sun\n",
      "/Users/elizabethchen/Music/Muse/Machine Gun Kelly\n",
      "/Users/elizabethchen/Music/Muse/10,000 Maniacs\n",
      "/Users/elizabethchen/Music/Muse/Alan Walker, Noah Cyrus & Digital Farm Animals\n",
      "/Users/elizabethchen/Music/Muse/B*Witched\n",
      "/Users/elizabethchen/Music/Muse/Kesha\n",
      "/Users/elizabethchen/Music/Muse/Hilary Duff\n",
      "/Users/elizabethchen/Music/Muse/Dashboard Confessional\n",
      "/Users/elizabethchen/Music/Muse/Cute Is What We Aim For\n",
      "/Users/elizabethchen/Music/Muse/Jack's Mannequin\n",
      "/Users/elizabethchen/Music/Muse/Maroon 5\n",
      "/Users/elizabethchen/Music/Muse/fun.\n",
      "/Users/elizabethchen/Music/Muse/Imagine Dragons\n",
      "/Users/elizabethchen/Music/Muse/Adele\n",
      "/Users/elizabethchen/Music/Muse/Ava Max\n",
      "/Users/elizabethchen/Music/Muse/iann dior\n",
      "/Users/elizabethchen/Music/Muse/Julia Michaels\n",
      "/Users/elizabethchen/Music/Muse/Matoma\n",
      "/Users/elizabethchen/Music/Muse/Death Cab for Cutie\n"
     ]
    }
   ],
   "source": [
    "for artist_dir in os.listdir(MUSIC_DIR):\n",
    "    if not artist_dir.startswith(\".\") or artist_dir.endswith(\".jpg\"):\n",
    "        print(os.path.join(MUSIC_DIR, artist_dir))"
   ]
  },
  {
   "cell_type": "markdown",
   "id": "c1942880",
   "metadata": {},
   "source": [
    "## TinyTag.get(song_file) attributes\n",
    "* Of interest:\n",
    "```\n",
    "tag.title         # title of the song\n",
    "tag.duration      # duration of the song in seconds\n",
    "tag.artist        # artist name as string\n",
    "tag.album         # album as string\n",
    "tag.albumartist   # album artist as string\n",
    "tag.track         # track number as string\n",
    "tag.genre         # genre as string\n",
    "tag.year          # year or data as string\n",
    "```\n",
    "* ALL:\n",
    "```\n",
    "tag.album         # album as string\n",
    "tag.albumartist   # album artist as string\n",
    "tag.artist        # artist name as string\n",
    "tag.audio_offset  # number of bytes before audio data begins\n",
    "tag.bitrate       # bitrate in kBits/s\n",
    "tag.comment       # file comment as string\n",
    "tag.composer      # composer as string \n",
    "tag.disc          # disc number\n",
    "tag.disc_total    # the total number of discs\n",
    "tag.duration      # duration of the song in seconds\n",
    "tag.filesize      # file size in bytes\n",
    "tag.genre         # genre as string\n",
    "tag.samplerate    # samples per second\n",
    "tag.title         # title of the song\n",
    "tag.track         # track number as string\n",
    "tag.track_total   # total number of tracks as string\n",
    "tag.year          # year or data as string\n",
    "```"
   ]
  },
  {
   "cell_type": "code",
   "execution_count": 4,
   "id": "3be9cb9b",
   "metadata": {
    "scrolled": true
   },
   "outputs": [],
   "source": [
    "for artist_dir in os.listdir(MUSIC_DIR):\n",
    "    if not artist_dir.startswith(\".\"):\n",
    "        #print('Now showing contents of %s' % os.path.join(MUSIC_DIR, artist_dir))\n",
    "        for album_dir in os.listdir(os.path.join(MUSIC_DIR, artist_dir)):\n",
    "            if not album_dir.startswith(\".\"):\n",
    "                if not album_dir.endswith(\".jpg\"):\n",
    "                    for song in os.listdir(os.path.join(MUSIC_DIR, artist_dir, album_dir)):\n",
    "                        if not song.startswith(\".\"):\n",
    "                            if not song.endswith(\".jpg\"):\n",
    "                                tag = TinyTag.get(os.path.join(MUSIC_DIR, artist_dir, album_dir, song))\n",
    "                                minutes = int(tag.duration//60)\n",
    "                                seconds = int((tag.duration/60 - minutes)*60)\n",
    "                                if seconds < 10:\n",
    "                                    seconds = str(0) + str(seconds)\n",
    "                                #print(f\"\"\"\n",
    "                                #       Track Name: {tag.title} ({minutes}:{seconds})\n",
    "                                #       Album: {tag.album}\n",
    "                                #       Artist: {tag.artist}\n",
    "                                #       Album Artist: {tag.albumartist}\n",
    "                                #       Release Date: {tag.year}\n",
    "                                #       \"\"\"\n",
    "                                #     )\n",
    "        #print(\"\\n\")"
   ]
  },
  {
   "cell_type": "markdown",
   "id": "04819e8c",
   "metadata": {},
   "source": [
    "# MongoDB"
   ]
  },
  {
   "cell_type": "code",
   "execution_count": 5,
   "id": "210e2475",
   "metadata": {},
   "outputs": [],
   "source": [
    "connection = MongoClient(\"mongodb://127.0.0.1:27017/museplayer\" )\n",
    "db = connection.museplayer"
   ]
  },
  {
   "cell_type": "markdown",
   "id": "600e8bbd",
   "metadata": {},
   "source": [
    "### Artists Collection Structure\n",
    "\n",
    "```\n",
    "Artists: {\n",
    "            _id: ObjectID\n",
    "            artistName: string\n",
    "            albums: [ list of album_ids ]\n",
    "            profilePic: [image] or [filename/location]\n",
    "         }\n",
    "```"
   ]
  },
  {
   "cell_type": "markdown",
   "id": "990c4569",
   "metadata": {},
   "source": [
    "### Albums Collection Structure\n",
    "\n",
    "```\n",
    "Albums: { \n",
    "           _id: ObjectId\n",
    "           albumName: string\n",
    "           albumArtist: string\n",
    "           releaseDate: [date or year]\n",
    "           albumCover: [image] or [filename/location]\n",
    "           genre: string\n",
    "           songs: [\n",
    "                      {\n",
    "                         _id: ObjectID\n",
    "                         title: string\n",
    "                         duration: float\n",
    "                         artist: string\n",
    "                         isFavorited: boolean\n",
    "                         numPlays: integer\n",
    "                      }\n",
    "                   ]\n",
    "```"
   ]
  },
  {
   "cell_type": "code",
   "execution_count": 6,
   "id": "eb670e70",
   "metadata": {
    "scrolled": false
   },
   "outputs": [],
   "source": [
    "albums = db.albums\n",
    "albums.drop()\n",
    "\n",
    "artists = db.artists\n",
    "artists.drop()\n",
    "\n",
    "songs = db.songs\n",
    "songs.drop()\n",
    "\n",
    "for artist_name in os.listdir(MUSIC_DIR):\n",
    "    if not artist_name.startswith(\".\"):\n",
    "        artist_album_ids = []\n",
    "        for album_name in os.listdir(os.path.join(MUSIC_DIR, artist_name)):\n",
    "            if not album_name in {'profile.jpg', '.DS_Store'}: # Two files to exclude when searching the artist directory\n",
    "                cover_loc = os.path.join(os.path.join(MUSIC_DIR, artist_name, album_name, 'cover.jpg'))\n",
    "                album_id =  ObjectId()\n",
    "                artist_id = ObjectId()\n",
    "                songs_list = []\n",
    "                for song in os.listdir(os.path.join(MUSIC_DIR, artist_name, album_name)):\n",
    "                    if not song in {'cover.jpg', '.DS_Store'}: # Two files to exclude when searching the albums directory\n",
    "                        try:\n",
    "                            file_loc = os.path.join(MUSIC_DIR, artist_name, album_name, song)\n",
    "                            tag = TinyTag.get(file_loc)                    \n",
    "                            song_entry = {\n",
    "                                '_id': ObjectId(),\n",
    "                                'artistId': artist_id,\n",
    "                                'albumId': album_id,\n",
    "                                'songFileLoc': file_loc,\n",
    "                                'title': tag.title,\n",
    "                                'duration': np.round(tag.duration, 1),\n",
    "                                'trackNumber': tag.track,\n",
    "                                'artistName': tag.artist,\n",
    "                                'albumName': tag.album,\n",
    "                                'albumArtist': tag.albumartist,\n",
    "                                'isFavorited': False,\n",
    "                                'numPlays': 0\n",
    "                            }\n",
    "                            songs_list.append(song_entry)\n",
    "                            songs.insert_one(song_entry)\n",
    "                        except:\n",
    "                            print(os.path.join(MUSIC_DIR, artist_name, album_name, song))\n",
    "                artist_album_ids.append(album_id)\n",
    "                album_entry  = {\n",
    "                    '_id': album_id,\n",
    "                    'artist_id': artist_id,\n",
    "                    'albumName': tag.album,\n",
    "                    'albumArtist': tag.albumartist,\n",
    "                    'releaseDate': tag.year,\n",
    "                    'genre': tag.genre,\n",
    "                    'songs': songs_list,\n",
    "                    'albumArtworkLoc': cover_loc,\n",
    "                    'isFavorited': False\n",
    "                }\n",
    "                albums.insert_one(album_entry)       \n",
    "        profile_location = os.path.join(MUSIC_DIR, artist_name, 'profile.jpg')\n",
    "        artist_entry = {\n",
    "            '_id': artist_id,\n",
    "            'artistName': tag.albumartist,\n",
    "            'artistAlbums': artist_album_ids,\n",
    "            'profilePicLoc': profile_location,\n",
    "            'isFavorited': False\n",
    "        }\n",
    "        artists.insert_one(artist_entry)"
   ]
  },
  {
   "cell_type": "code",
   "execution_count": 7,
   "id": "9dc53662",
   "metadata": {},
   "outputs": [
    {
     "data": {
      "text/plain": [
       "'albumName_1'"
      ]
     },
     "execution_count": 7,
     "metadata": {},
     "output_type": "execute_result"
    }
   ],
   "source": [
    "artists.create_index('artistName')\n",
    "songs.create_index('title')\n",
    "albums.create_index('albumName')"
   ]
  },
  {
   "cell_type": "code",
   "execution_count": null,
   "id": "b51347e9",
   "metadata": {},
   "outputs": [],
   "source": []
  }
 ],
 "metadata": {
  "kernelspec": {
   "display_name": "Python 3",
   "language": "python",
   "name": "python3"
  },
  "language_info": {
   "codemirror_mode": {
    "name": "ipython",
    "version": 3
   },
   "file_extension": ".py",
   "mimetype": "text/x-python",
   "name": "python",
   "nbconvert_exporter": "python",
   "pygments_lexer": "ipython3",
   "version": "3.9.5"
  }
 },
 "nbformat": 4,
 "nbformat_minor": 5
}
