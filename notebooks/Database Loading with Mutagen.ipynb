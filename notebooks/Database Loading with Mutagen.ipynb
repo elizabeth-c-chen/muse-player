{
 "cells": [
  {
   "cell_type": "markdown",
   "id": "11c6864c",
   "metadata": {},
   "source": [
    "# Loading the database"
   ]
  },
  {
   "cell_type": "code",
   "execution_count": 1,
   "id": "be6448f4",
   "metadata": {},
   "outputs": [],
   "source": [
    "import os\n",
    "import json\n",
    "import numpy as np\n",
    "from mutagen.mp4 import MP4\n",
    "from datetime import datetime\n",
    "from bson import ObjectId\n",
    "from pymongo import MongoClient\n",
    "from pprint import PrettyPrinter\n",
    "pp = PrettyPrinter()"
   ]
  },
  {
   "cell_type": "code",
   "execution_count": 2,
   "id": "571b32c0",
   "metadata": {},
   "outputs": [],
   "source": [
    "MUSIC_DIR = \"/Users/elizabethchen/Music/Library/\""
   ]
  },
  {
   "cell_type": "code",
   "execution_count": 3,
   "id": "3e92424c",
   "metadata": {},
   "outputs": [],
   "source": [
    "IMAGE_DIR = \"/Users/elizabethchen/Music/Images/\""
   ]
  },
  {
   "cell_type": "code",
   "execution_count": 4,
   "id": "727e5392",
   "metadata": {},
   "outputs": [],
   "source": [
    "def get_codec(mf_info_codec):\n",
    "    if mf_info_codec == 'mp4a.40.2':\n",
    "        return 'aac'\n",
    "    elif mf_info_codec == 'alac':\n",
    "        return 'alac'"
   ]
  },
  {
   "cell_type": "code",
   "execution_count": 5,
   "id": "3be9cb9b",
   "metadata": {
    "scrolled": true
   },
   "outputs": [],
   "source": [
    "for artist_dir in os.listdir(MUSIC_DIR):\n",
    "    if not artist_dir.startswith(\".\"):\n",
    "        #print('Now showing contents of %s' % os.path.join(MUSIC_DIR, artist_dir))\n",
    "        for album_dir in os.listdir(os.path.join(MUSIC_DIR, artist_dir)):\n",
    "            if not album_dir.startswith(\".\"):\n",
    "                if not album_dir.endswith(\".jpg\"):\n",
    "                    album_path = os.path.join(MUSIC_DIR, artist_dir, album_dir)\n",
    "                    for song in os.listdir(album_path):\n",
    "                        if not song.startswith(\".\"):\n",
    "                            if not song.endswith(\".jpg\"):\n",
    "                                song_path = os.path.join(album_path, song)\n",
    "                                mf = MP4(song_path)\n",
    "                                title = mf['©nam'][0]\n",
    "                                #title, artist, album, = mf['©nam'][0], mf['©ART'][0], mf['©alb'][0]\n",
    "                                #album_artist, release_date = mf['aART'][0], mf['©day'][0]\n",
    "                                track_num = mf['trkn'][0][0]\n",
    "                                #print(title, track_num)\n",
    "                                #duration, bitrate, codec = mf.info.length, mf.info.bitrate, mf.info.codec\n",
    "                                "
   ]
  },
  {
   "cell_type": "markdown",
   "id": "04819e8c",
   "metadata": {},
   "source": [
    "# MongoDB"
   ]
  },
  {
   "cell_type": "code",
   "execution_count": 6,
   "id": "210e2475",
   "metadata": {},
   "outputs": [],
   "source": [
    "connection = MongoClient(\"mongodb://127.0.0.1:27017/museplayer\" )\n",
    "db = connection.museplayer"
   ]
  },
  {
   "cell_type": "markdown",
   "id": "600e8bbd",
   "metadata": {},
   "source": [
    "### Artists Collection Structure\n",
    "\n",
    "```\n",
    "Artists: {\n",
    "            _id: ObjectID\n",
    "            artistName: string\n",
    "            albums: [ list of album_ids ]\n",
    "            profilePic: [image] or [filename/location]\n",
    "         }\n",
    "```"
   ]
  },
  {
   "cell_type": "markdown",
   "id": "990c4569",
   "metadata": {},
   "source": [
    "### Albums Collection Structure\n",
    "\n",
    "```\n",
    "Albums: { \n",
    "           _id: ObjectId\n",
    "           albumName: string\n",
    "           albumArtist: string\n",
    "           releaseDate: date\n",
    "           albumCover: filename/location\n",
    "           genre: string\n",
    "           songs: [ObjectId]\n",
    "```"
   ]
  },
  {
   "cell_type": "code",
   "execution_count": 7,
   "id": "eb670e70",
   "metadata": {
    "scrolled": false
   },
   "outputs": [],
   "source": [
    "albums = db.albums\n",
    "albums.drop()\n",
    "\n",
    "artists = db.artists\n",
    "artists.drop()\n",
    "\n",
    "songs = db.songs\n",
    "songs.drop()\n",
    "\n",
    "for artist_name in os.listdir(MUSIC_DIR):\n",
    "    if not artist_name.startswith(\".\"):\n",
    "        artist_album_ids = []\n",
    "        for album_name in os.listdir(os.path.join(MUSIC_DIR, artist_name)):\n",
    "            if not album_name in {'profile.jpg', '.DS_Store'}: # Two files to exclude when searching the artist directory\n",
    "                cover_loc = os.path.join(IMAGE_DIR, artist_name, album_name, 'cover.jpg')\n",
    "                album_id =  ObjectId()\n",
    "                artist_id = ObjectId()\n",
    "                songs_list = []\n",
    "                for song in os.listdir(os.path.join(MUSIC_DIR, artist_name, album_name)):\n",
    "                    if not song in {'cover.jpg', '.DS_Store'}: # Two files to exclude when searching the albums directory\n",
    "                        try:\n",
    "                            file_loc = os.path.join(MUSIC_DIR, artist_name, album_name, song)\n",
    "                            mf = MP4(file_loc)\n",
    "                            song_entry = {\n",
    "                                '_id': ObjectId(),\n",
    "                                'artistId': artist_id,\n",
    "                                'albumId': album_id,\n",
    "                                'songFileLoc': file_loc,\n",
    "                                'albumArtworkLoc': cover_loc,\n",
    "                                'title': mf['©nam'][0],\n",
    "                                'duration': np.round(mf.info.length, 1),\n",
    "                                'trackNumber': mf['trkn'][0][0],\n",
    "                                'artistName': mf['©ART'][0],\n",
    "                                'albumName': mf['©alb'][0],\n",
    "                                'albumArtist': mf['aART'][0],\n",
    "                                'releaseDate': mf['©day'][0],\n",
    "                                'bitrate': np.round(mf.info.bitrate / 1000), \n",
    "                                'codec': get_codec(mf.info.codec),\n",
    "                                'isFavorited': False,\n",
    "                                'numPlays': 0, \n",
    "                                'lastPlayed': None\n",
    "                            }\n",
    "                            songs_list.append(song_entry[\"_id\"])\n",
    "                            songs.insert_one(song_entry)\n",
    "                        except:\n",
    "                            print(os.path.join(MUSIC_DIR, artist_name, album_name, song))\n",
    "                artist_album_ids.append(album_id)\n",
    "                album_entry  = {\n",
    "                    '_id': album_id,\n",
    "                    'artistId': artist_id,\n",
    "                    'albumName': mf['©alb'][0],\n",
    "                    'albumArtist': mf['aART'][0],\n",
    "                    'releaseDate': mf['©day'][0],\n",
    "                    'genre': mf['©gen'][0],\n",
    "                    'songs': songs_list,\n",
    "                    'albumArtworkLoc': cover_loc,\n",
    "                    'isFavorited': False\n",
    "                }\n",
    "                albums.insert_one(album_entry)       \n",
    "        profile_location = os.path.join(IMAGE_DIR, artist_name, 'profile.jpg')\n",
    "        artist_entry = {\n",
    "            '_id': artist_id,\n",
    "            'artistName': mf['aART'][0],\n",
    "            'artistAlbums': artist_album_ids,\n",
    "            'profilePicLoc': profile_location,\n",
    "            'isFavorited': False\n",
    "        }\n",
    "        artists.insert_one(artist_entry)"
   ]
  },
  {
   "cell_type": "code",
   "execution_count": 8,
   "id": "9dc53662",
   "metadata": {},
   "outputs": [
    {
     "data": {
      "text/plain": [
       "'albumName_1'"
      ]
     },
     "execution_count": 8,
     "metadata": {},
     "output_type": "execute_result"
    }
   ],
   "source": [
    "artists.create_index('artistName')\n",
    "songs.create_index('title')\n",
    "albums.create_index('albumName')"
   ]
  },
  {
   "cell_type": "code",
   "execution_count": null,
   "id": "c31b7d29",
   "metadata": {},
   "outputs": [],
   "source": []
  }
 ],
 "metadata": {
  "kernelspec": {
   "display_name": "Python 3",
   "language": "python",
   "name": "python3"
  },
  "language_info": {
   "codemirror_mode": {
    "name": "ipython",
    "version": 3
   },
   "file_extension": ".py",
   "mimetype": "text/x-python",
   "name": "python",
   "nbconvert_exporter": "python",
   "pygments_lexer": "ipython3",
   "version": "3.9.5"
  }
 },
 "nbformat": 4,
 "nbformat_minor": 5
}
