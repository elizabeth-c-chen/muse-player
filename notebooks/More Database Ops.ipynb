{
 "cells": [
  {
   "cell_type": "code",
   "execution_count": 5,
   "id": "039d3b3f",
   "metadata": {},
   "outputs": [],
   "source": [
    "import os\n",
    "import json\n",
    "import numpy as np\n",
    "from datetime import datetime\n",
    "from tinytag import TinyTag\n",
    "from bson import ObjectId\n",
    "from pymongo import MongoClient\n",
    "from pprint import PrettyPrinter\n",
    "pp = PrettyPrinter()"
   ]
  },
  {
   "cell_type": "code",
   "execution_count": 6,
   "id": "ec6092fe",
   "metadata": {},
   "outputs": [],
   "source": [
    "connection = MongoClient(\"mongodb://127.0.0.1:27017/museplayer\" )\n",
    "db = connection.museplayer"
   ]
  },
  {
   "cell_type": "code",
   "execution_count": 7,
   "id": "987ad400",
   "metadata": {},
   "outputs": [],
   "source": [
    "albums = db.albums\n",
    "artists = db.artists\n",
    "songs = db.songs"
   ]
  },
  {
   "cell_type": "code",
   "execution_count": 9,
   "id": "ea9c1325",
   "metadata": {},
   "outputs": [
    {
     "name": "stderr",
     "output_type": "stream",
     "text": [
      "<ipython-input-9-f7ff2d1feb56>:1: DeprecationWarning: count is deprecated. Use Collection.count_documents instead.\n",
      "  songs.find({}).count()\n"
     ]
    },
    {
     "data": {
      "text/plain": [
       "543"
      ]
     },
     "execution_count": 9,
     "metadata": {},
     "output_type": "execute_result"
    }
   ],
   "source": [
    "songs.find({}).count()"
   ]
  },
  {
   "cell_type": "code",
   "execution_count": null,
   "id": "5e8dd9ae",
   "metadata": {},
   "outputs": [],
   "source": []
  }
 ],
 "metadata": {
  "kernelspec": {
   "display_name": "Python 3",
   "language": "python",
   "name": "python3"
  },
  "language_info": {
   "codemirror_mode": {
    "name": "ipython",
    "version": 3
   },
   "file_extension": ".py",
   "mimetype": "text/x-python",
   "name": "python",
   "nbconvert_exporter": "python",
   "pygments_lexer": "ipython3",
   "version": "3.9.5"
  }
 },
 "nbformat": 4,
 "nbformat_minor": 5
}
